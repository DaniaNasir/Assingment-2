{
 "cells": [
  {
   "cell_type": "code",
   "execution_count": 1,
   "metadata": {},
   "outputs": [],
   "source": [
    "import pandas as pd\n",
    "import seaborn as sns"
   ]
  },
  {
   "cell_type": "code",
   "execution_count": 11,
   "metadata": {},
   "outputs": [],
   "source": [
    "#data load\n",
    "#taking data from seaborn datas\n",
    "punctuation = sns.load_dataset(\"dots\")"
   ]
  },
  {
   "cell_type": "code",
   "execution_count": 14,
   "metadata": {},
   "outputs": [],
   "source": [
    "#saving data\n",
    "punctuation.to_csv(\"dania.csv\")"
   ]
  },
  {
   "cell_type": "code",
   "execution_count": 15,
   "metadata": {},
   "outputs": [],
   "source": [
    "#loading dataset\n",
    "df = pd.read_csv(\"dania.csv\")"
   ]
  },
  {
   "cell_type": "code",
   "execution_count": 16,
   "metadata": {},
   "outputs": [
    {
     "name": "stdout",
     "output_type": "stream",
     "text": [
      "    Unnamed: 0 align choice  time  coherence  firing_rate\n",
      "0            0  dots     T1   -80        0.0    33.189967\n",
      "1            1  dots     T1   -80        3.2    31.691726\n",
      "2            2  dots     T1   -80        6.4    34.279840\n",
      "3            3  dots     T1   -80       12.8    32.631874\n",
      "4            4  dots     T1   -80       25.6    35.060487\n",
      "5            5  dots     T1   -80       51.2    34.987571\n",
      "6            6  dots     T1   -60        0.0    32.868526\n",
      "7            7  dots     T1   -60        3.2    35.119048\n",
      "8            8  dots     T1   -60        6.4    34.841076\n",
      "9            9  dots     T1   -60       12.8    35.648148\n",
      "10          10  dots     T1   -60       25.6    33.610568\n",
      "11          11  dots     T1   -60       51.2    34.277344\n",
      "12          12  dots     T1   -40        0.0    34.561753\n",
      "13          13  dots     T1   -40        3.2    34.895833\n",
      "14          14  dots     T1   -40        6.4    34.963325\n"
     ]
    }
   ],
   "source": [
    "first_15_rows = df.head(15)\n",
    "print(first_15_rows)"
   ]
  }
 ],
 "metadata": {
  "kernelspec": {
   "display_name": "Python 3",
   "language": "python",
   "name": "python3"
  },
  "language_info": {
   "codemirror_mode": {
    "name": "ipython",
    "version": 3
   },
   "file_extension": ".py",
   "mimetype": "text/x-python",
   "name": "python",
   "nbconvert_exporter": "python",
   "pygments_lexer": "ipython3",
   "version": "3.11.4"
  },
  "orig_nbformat": 4
 },
 "nbformat": 4,
 "nbformat_minor": 2
}
